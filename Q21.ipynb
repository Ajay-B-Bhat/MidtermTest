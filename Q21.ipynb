{
 "cells": [
  {
   "cell_type": "code",
   "execution_count": 6,
   "id": "6967730a",
   "metadata": {},
   "outputs": [
    {
     "data": {
      "text/plain": [
       "(5.0, 1.3333333333333333)"
      ]
     },
     "execution_count": 6,
     "metadata": {},
     "output_type": "execute_result"
    }
   ],
   "source": [
    "\n",
    "import math\n",
    "\n",
    "\n",
    "class Point:\n",
    "    def __init__(self, x=0, y=0):\n",
    "        self.x = x\n",
    "        self.y = y\n",
    "\n",
    "\n",
    "class Segment:\n",
    "    def __init__(self, p1, p2):\n",
    "        self.p1 = p1\n",
    "        self.p2 = p2\n",
    "\n",
    "    \n",
    "    def length(self):\n",
    "        return math.sqrt((self.p2.x - self.p1.x)**2 + (self.p2.y - self.p1.y)**2)\n",
    "\n",
    "    \n",
    "    def slope(self):\n",
    "        if self.p2.x == self.p1.x:\n",
    "            return None  \n",
    "        return (self.p2.y - self.p1.y) / (self.p2.x - self.p1.x)\n",
    "\n",
    "\n",
    "p1 = Point(3, 4)\n",
    "p2 = Point()  \n",
    "\n",
    "s = Segment(p1, p2)\n",
    "\n",
    "\n",
    "length = s.length()\n",
    "slope = s.slope()\n",
    "\n",
    "length, slope"
   ]
  },
  {
   "cell_type": "code",
   "execution_count": null,
   "id": "e8c7cb54-df93-4b17-88f3-e1e755f6ef57",
   "metadata": {},
   "outputs": [],
   "source": []
  }
 ],
 "metadata": {
  "kernelspec": {
   "display_name": "Python 3 (ipykernel)",
   "language": "python",
   "name": "python3"
  },
  "language_info": {
   "codemirror_mode": {
    "name": "ipython",
    "version": 3
   },
   "file_extension": ".py",
   "mimetype": "text/x-python",
   "name": "python",
   "nbconvert_exporter": "python",
   "pygments_lexer": "ipython3",
   "version": "3.12.4"
  }
 },
 "nbformat": 4,
 "nbformat_minor": 5
}
